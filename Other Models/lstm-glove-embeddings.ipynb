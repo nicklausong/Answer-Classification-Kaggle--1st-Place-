{
 "cells": [
  {
   "cell_type": "markdown",
   "metadata": {},
   "source": [
    "### Using LSTM and training on word embeddings. The results were no where near as good, so I stopped working on this, with 0.67 on the validation set."
   ]
  },
  {
   "cell_type": "code",
   "execution_count": 1,
   "metadata": {},
   "outputs": [],
   "source": [
    "import numpy as np # linear algebra\n",
    "import pandas as pd # data processing, CSV file I/O (e.g. pd.read_csv)"
   ]
  },
  {
   "cell_type": "code",
   "execution_count": 2,
   "metadata": {
    "_cell_guid": "b1076dfc-b9ad-4769-8c92-a6c4dae69d19",
    "_uuid": "8f2839f25d086af736a60e9eeb907d3b93b6e0e5"
   },
   "outputs": [],
   "source": [
    "import matplotlib.pyplot as plt\n",
    "import string\n",
    "from nltk.stem.snowball import SnowballStemmer\n",
    "from nltk.tokenize import word_tokenize"
   ]
  },
  {
   "cell_type": "code",
   "execution_count": 3,
   "metadata": {},
   "outputs": [],
   "source": [
    "from nltk.corpus import stopwords\n",
    "from scipy.sparse import coo_matrix, hstack"
   ]
  },
  {
   "cell_type": "code",
   "execution_count": 4,
   "metadata": {
    "_cell_guid": "79c7e3d0-c299-4dcb-8224-4455121ee9b0",
    "_uuid": "d629ff2d2480ee46fbb7e2d37f6b5fab8052498a"
   },
   "outputs": [
    {
     "data": {
      "text/html": [
       "<div>\n",
       "<style scoped>\n",
       "    .dataframe tbody tr th:only-of-type {\n",
       "        vertical-align: middle;\n",
       "    }\n",
       "\n",
       "    .dataframe tbody tr th {\n",
       "        vertical-align: top;\n",
       "    }\n",
       "\n",
       "    .dataframe thead th {\n",
       "        text-align: right;\n",
       "    }\n",
       "</style>\n",
       "<table border=\"1\" class=\"dataframe\">\n",
       "  <thead>\n",
       "    <tr style=\"text-align: right;\">\n",
       "      <th></th>\n",
       "      <th>Comment</th>\n",
       "      <th>Outcome</th>\n",
       "      <th>Id</th>\n",
       "      <th>num_numbers</th>\n",
       "      <th>prop_numbers</th>\n",
       "      <th>num_words</th>\n",
       "      <th>num_punctuation</th>\n",
       "      <th>prop_punctuation</th>\n",
       "      <th>nchar</th>\n",
       "      <th>word_density</th>\n",
       "      <th>pos_tags</th>\n",
       "      <th>noun_count</th>\n",
       "      <th>verb_count</th>\n",
       "      <th>adj_count</th>\n",
       "      <th>adv_count</th>\n",
       "      <th>pron_count</th>\n",
       "      <th>lda</th>\n",
       "    </tr>\n",
       "  </thead>\n",
       "  <tbody>\n",
       "    <tr>\n",
       "      <th>0</th>\n",
       "      <td>from the constants section of the r language d...</td>\n",
       "      <td>1</td>\n",
       "      <td>32216</td>\n",
       "      <td>21</td>\n",
       "      <td>0.033926</td>\n",
       "      <td>114</td>\n",
       "      <td>18</td>\n",
       "      <td>0.029079</td>\n",
       "      <td>619</td>\n",
       "      <td>5.382609</td>\n",
       "      <td>[('from', 'IN'), ('the', 'DT'), ('constants', ...</td>\n",
       "      <td>37</td>\n",
       "      <td>17</td>\n",
       "      <td>9</td>\n",
       "      <td>5</td>\n",
       "      <td>4</td>\n",
       "      <td>NaN</td>\n",
       "    </tr>\n",
       "    <tr>\n",
       "      <th>1</th>\n",
       "      <td>when you run \"knit html\", the code is trying t...</td>\n",
       "      <td>1</td>\n",
       "      <td>37915</td>\n",
       "      <td>0</td>\n",
       "      <td>0.000000</td>\n",
       "      <td>104</td>\n",
       "      <td>42</td>\n",
       "      <td>0.069767</td>\n",
       "      <td>602</td>\n",
       "      <td>5.733333</td>\n",
       "      <td>[('when', 'WRB'), ('you', 'PRP'), ('run', 'VBP...</td>\n",
       "      <td>29</td>\n",
       "      <td>21</td>\n",
       "      <td>7</td>\n",
       "      <td>7</td>\n",
       "      <td>5</td>\n",
       "      <td>NaN</td>\n",
       "    </tr>\n",
       "    <tr>\n",
       "      <th>2</th>\n",
       "      <td>the preferred way, when applicable: for r in r...</td>\n",
       "      <td>1</td>\n",
       "      <td>36837</td>\n",
       "      <td>0</td>\n",
       "      <td>0.000000</td>\n",
       "      <td>127</td>\n",
       "      <td>57</td>\n",
       "      <td>0.077551</td>\n",
       "      <td>735</td>\n",
       "      <td>5.742188</td>\n",
       "      <td>[('the', 'DT'), ('preferred', 'JJ'), ('way', '...</td>\n",
       "      <td>46</td>\n",
       "      <td>17</td>\n",
       "      <td>12</td>\n",
       "      <td>11</td>\n",
       "      <td>5</td>\n",
       "      <td>NaN</td>\n",
       "    </tr>\n",
       "    <tr>\n",
       "      <th>3</th>\n",
       "      <td>an r list can have named elements and so funct...</td>\n",
       "      <td>1</td>\n",
       "      <td>38240</td>\n",
       "      <td>4</td>\n",
       "      <td>0.007220</td>\n",
       "      <td>98</td>\n",
       "      <td>23</td>\n",
       "      <td>0.041516</td>\n",
       "      <td>554</td>\n",
       "      <td>5.595960</td>\n",
       "      <td>[('an', 'DT'), ('r', 'JJ'), ('list', 'NN'), ('...</td>\n",
       "      <td>30</td>\n",
       "      <td>14</td>\n",
       "      <td>10</td>\n",
       "      <td>5</td>\n",
       "      <td>4</td>\n",
       "      <td>NaN</td>\n",
       "    </tr>\n",
       "    <tr>\n",
       "      <th>4</th>\n",
       "      <td>a geom_ribbon is exactly what you need ggplot(...</td>\n",
       "      <td>1</td>\n",
       "      <td>36239</td>\n",
       "      <td>1</td>\n",
       "      <td>0.003984</td>\n",
       "      <td>30</td>\n",
       "      <td>56</td>\n",
       "      <td>0.223108</td>\n",
       "      <td>251</td>\n",
       "      <td>8.096774</td>\n",
       "      <td>[('a', 'DT'), ('geom_ribbon', 'NN'), ('is', 'V...</td>\n",
       "      <td>22</td>\n",
       "      <td>2</td>\n",
       "      <td>11</td>\n",
       "      <td>1</td>\n",
       "      <td>2</td>\n",
       "      <td>NaN</td>\n",
       "    </tr>\n",
       "  </tbody>\n",
       "</table>\n",
       "</div>"
      ],
      "text/plain": [
       "                                             Comment  Outcome     Id  \\\n",
       "0  from the constants section of the r language d...        1  32216   \n",
       "1  when you run \"knit html\", the code is trying t...        1  37915   \n",
       "2  the preferred way, when applicable: for r in r...        1  36837   \n",
       "3  an r list can have named elements and so funct...        1  38240   \n",
       "4  a geom_ribbon is exactly what you need ggplot(...        1  36239   \n",
       "\n",
       "   num_numbers  prop_numbers  num_words  num_punctuation  prop_punctuation  \\\n",
       "0           21      0.033926        114               18          0.029079   \n",
       "1            0      0.000000        104               42          0.069767   \n",
       "2            0      0.000000        127               57          0.077551   \n",
       "3            4      0.007220         98               23          0.041516   \n",
       "4            1      0.003984         30               56          0.223108   \n",
       "\n",
       "   nchar  word_density                                           pos_tags  \\\n",
       "0    619      5.382609  [('from', 'IN'), ('the', 'DT'), ('constants', ...   \n",
       "1    602      5.733333  [('when', 'WRB'), ('you', 'PRP'), ('run', 'VBP...   \n",
       "2    735      5.742188  [('the', 'DT'), ('preferred', 'JJ'), ('way', '...   \n",
       "3    554      5.595960  [('an', 'DT'), ('r', 'JJ'), ('list', 'NN'), ('...   \n",
       "4    251      8.096774  [('a', 'DT'), ('geom_ribbon', 'NN'), ('is', 'V...   \n",
       "\n",
       "   noun_count  verb_count  adj_count  adv_count  pron_count  lda  \n",
       "0          37          17          9          5           4  NaN  \n",
       "1          29          21          7          7           5  NaN  \n",
       "2          46          17         12         11           5  NaN  \n",
       "3          30          14         10          5           4  NaN  \n",
       "4          22           2         11          1           2  NaN  "
      ]
     },
     "execution_count": 4,
     "metadata": {},
     "output_type": "execute_result"
    }
   ],
   "source": [
    "train = pd.read_csv(\"../datasets/preprocessed_train.csv\")\n",
    "test = pd.read_csv(\"../datasets/preprocessed_test.csv\")\n",
    "train.head()"
   ]
  },
  {
   "cell_type": "code",
   "execution_count": 5,
   "metadata": {},
   "outputs": [],
   "source": [
    "from sklearn import metrics"
   ]
  },
  {
   "cell_type": "code",
   "execution_count": 6,
   "metadata": {},
   "outputs": [],
   "source": [
    "stop_words = set(stopwords.words(\"english\"))\n",
    "def preprocess(text):\n",
    "    text = \"\".join([i.lower() if not i.isdigit() and i not in string.punctuation else \" \" for i in text])\n",
    "    text = word_tokenize(text)\n",
    "    text = [word for word in text if len(word) > 2 and word not in stop_words]\n",
    "    return \" \".join(text)"
   ]
  },
  {
   "cell_type": "code",
   "execution_count": 7,
   "metadata": {},
   "outputs": [],
   "source": [
    "train[\"Comment\"] = train[\"Comment\"].apply(lambda x: preprocess(x))\n",
    "test[\"Comment\"] = test[\"Comment\"].apply(lambda x: preprocess(x))"
   ]
  },
  {
   "cell_type": "code",
   "execution_count": 8,
   "metadata": {},
   "outputs": [],
   "source": [
    "from tqdm import tqdm\n",
    "def create_corpus_new(df):\n",
    "    corpus=[]\n",
    "    for tweet in tqdm(df['Comment']):\n",
    "        words=[word.lower() for word in word_tokenize(tweet)]\n",
    "        corpus.append(words)\n",
    "    return corpus"
   ]
  },
  {
   "cell_type": "code",
   "execution_count": 9,
   "metadata": {},
   "outputs": [
    {
     "name": "stderr",
     "output_type": "stream",
     "text": [
      "100%|██████████| 44459/44459 [00:37<00:00, 1174.68it/s]\n"
     ]
    }
   ],
   "source": [
    "corpus=create_corpus_new(train)"
   ]
  },
  {
   "cell_type": "code",
   "execution_count": 10,
   "metadata": {},
   "outputs": [],
   "source": [
    "embedding_dict={}\n",
    "with open('glove.6B.100d.txt','r', encoding=\"utf8\") as f:\n",
    "    for line in f:\n",
    "        values=line.split()\n",
    "        word = values[0]\n",
    "        vectors=np.asarray(values[1:],'float32')\n",
    "        embedding_dict[word]=vectors\n",
    "f.close()"
   ]
  },
  {
   "cell_type": "code",
   "execution_count": 11,
   "metadata": {},
   "outputs": [
    {
     "name": "stderr",
     "output_type": "stream",
     "text": [
      "Using TensorFlow backend.\n"
     ]
    }
   ],
   "source": [
    "from keras.preprocessing.text import Tokenizer\n",
    "from keras.preprocessing.sequence import pad_sequences"
   ]
  },
  {
   "cell_type": "code",
   "execution_count": 12,
   "metadata": {},
   "outputs": [],
   "source": [
    "MAX_LEN=100\n",
    "tokenizer_obj=Tokenizer()\n",
    "tokenizer_obj.fit_on_texts(corpus)\n",
    "sequences=tokenizer_obj.texts_to_sequences(corpus)\n",
    "\n",
    "train_pad=pad_sequences(sequences,maxlen=MAX_LEN,truncating='post',padding='post')"
   ]
  },
  {
   "cell_type": "code",
   "execution_count": 13,
   "metadata": {},
   "outputs": [
    {
     "name": "stdout",
     "output_type": "stream",
     "text": [
      "Number of unique words: 69916\n"
     ]
    }
   ],
   "source": [
    "word_index=tokenizer_obj.word_index\n",
    "print('Number of unique words:',len(word_index))"
   ]
  },
  {
   "cell_type": "code",
   "execution_count": 14,
   "metadata": {},
   "outputs": [
    {
     "name": "stderr",
     "output_type": "stream",
     "text": [
      "100%|██████████| 69916/69916 [00:00<00:00, 266105.89it/s]\n"
     ]
    }
   ],
   "source": [
    "num_words=len(word_index)+1\n",
    "embedding_matrix=np.zeros((num_words,100))\n",
    "\n",
    "for word,i in tqdm(word_index.items()):\n",
    "    if i < num_words:\n",
    "        emb_vec=embedding_dict.get(word)\n",
    "        if emb_vec is not None:\n",
    "            embedding_matrix[i]=emb_vec "
   ]
  },
  {
   "cell_type": "code",
   "execution_count": 15,
   "metadata": {},
   "outputs": [],
   "source": [
    "from keras.models import Sequential\n",
    "from keras.layers import Embedding, LSTM,Dense, SpatialDropout1D, Dropout\n",
    "from keras.initializers import Constant\n",
    "from keras.optimizers import Adam"
   ]
  },
  {
   "cell_type": "code",
   "execution_count": 16,
   "metadata": {},
   "outputs": [],
   "source": [
    "model=Sequential()\n",
    "\n",
    "embedding=Embedding(num_words,100,embeddings_initializer=Constant(embedding_matrix),\n",
    "                   input_length=MAX_LEN,trainable=False)\n",
    "\n",
    "model.add(embedding)\n",
    "model.add(SpatialDropout1D(0.2))\n",
    "model.add(LSTM(100, dropout=0.2, recurrent_dropout=0.2))\n",
    "model.add(Dense(1, activation='sigmoid'))\n",
    "\n",
    "\n",
    "optimzer=Adam(learning_rate=3e-4)\n",
    "\n",
    "model.compile(loss='binary_crossentropy',optimizer=optimzer,metrics=['accuracy'])"
   ]
  },
  {
   "cell_type": "code",
   "execution_count": 17,
   "metadata": {},
   "outputs": [
    {
     "name": "stdout",
     "output_type": "stream",
     "text": [
      "Model: \"sequential_1\"\n",
      "_________________________________________________________________\n",
      "Layer (type)                 Output Shape              Param #   \n",
      "=================================================================\n",
      "embedding_1 (Embedding)      (None, 100, 100)          6991700   \n",
      "_________________________________________________________________\n",
      "spatial_dropout1d_1 (Spatial (None, 100, 100)          0         \n",
      "_________________________________________________________________\n",
      "lstm_1 (LSTM)                (None, 100)               80400     \n",
      "_________________________________________________________________\n",
      "dense_1 (Dense)              (None, 1)                 101       \n",
      "=================================================================\n",
      "Total params: 7,072,201\n",
      "Trainable params: 80,501\n",
      "Non-trainable params: 6,991,700\n",
      "_________________________________________________________________\n"
     ]
    }
   ],
   "source": [
    "model.summary()"
   ]
  },
  {
   "cell_type": "code",
   "execution_count": 18,
   "metadata": {},
   "outputs": [],
   "source": [
    "train_corpus=train_pad[:train.shape[0]]\n",
    "test_corpus=train_pad[train.shape[0]:]"
   ]
  },
  {
   "cell_type": "code",
   "execution_count": 19,
   "metadata": {},
   "outputs": [
    {
     "name": "stdout",
     "output_type": "stream",
     "text": [
      "Shape of train (35567, 100)\n",
      "Shape of Validation  (8892, 100)\n"
     ]
    }
   ],
   "source": [
    "from sklearn.model_selection import train_test_split\n",
    "X_train,X_val,y_train,y_val=train_test_split(train_corpus,train['Outcome'].values,test_size=0.2, random_state=0)\n",
    "print('Shape of train',X_train.shape)\n",
    "print(\"Shape of Validation \",X_val.shape)"
   ]
  },
  {
   "cell_type": "code",
   "execution_count": 20,
   "metadata": {},
   "outputs": [
    {
     "name": "stdout",
     "output_type": "stream",
     "text": [
      "Train on 35567 samples, validate on 8892 samples\n",
      "Epoch 1/60\n",
      " - 174s - loss: 0.6652 - accuracy: 0.5717 - val_loss: 0.6572 - val_accuracy: 0.5855\n",
      "Epoch 2/60\n",
      " - 177s - loss: 0.6567 - accuracy: 0.5980 - val_loss: 0.6450 - val_accuracy: 0.6217\n",
      "Epoch 3/60\n",
      " - 174s - loss: 0.6517 - accuracy: 0.6045 - val_loss: 0.6406 - val_accuracy: 0.6273\n",
      "Epoch 4/60\n",
      " - 174s - loss: 0.6444 - accuracy: 0.6181 - val_loss: 0.6359 - val_accuracy: 0.6312\n",
      "Epoch 5/60\n",
      " - 179s - loss: 0.6417 - accuracy: 0.6247 - val_loss: 0.6338 - val_accuracy: 0.6356\n",
      "Epoch 6/60\n",
      " - 172s - loss: 0.6378 - accuracy: 0.6281 - val_loss: 0.6321 - val_accuracy: 0.6282\n",
      "Epoch 7/60\n",
      " - 175s - loss: 0.6344 - accuracy: 0.6294 - val_loss: 0.6385 - val_accuracy: 0.6278\n",
      "Epoch 8/60\n",
      " - 173s - loss: 0.6307 - accuracy: 0.6374 - val_loss: 0.6315 - val_accuracy: 0.6120\n",
      "Epoch 9/60\n",
      " - 173s - loss: 0.6284 - accuracy: 0.6387 - val_loss: 0.6183 - val_accuracy: 0.6564\n",
      "Epoch 10/60\n",
      " - 173s - loss: 0.6241 - accuracy: 0.6426 - val_loss: 0.6162 - val_accuracy: 0.6565\n",
      "Epoch 11/60\n",
      " - 173s - loss: 0.6217 - accuracy: 0.6494 - val_loss: 0.6134 - val_accuracy: 0.6614\n",
      "Epoch 12/60\n",
      " - 176s - loss: 0.6176 - accuracy: 0.6545 - val_loss: 0.6125 - val_accuracy: 0.6585\n",
      "Epoch 13/60\n",
      " - 173s - loss: 0.6154 - accuracy: 0.6571 - val_loss: 0.6136 - val_accuracy: 0.6490\n",
      "Epoch 14/60\n",
      " - 176s - loss: 0.6122 - accuracy: 0.6587 - val_loss: 0.6111 - val_accuracy: 0.6595\n",
      "Epoch 15/60\n",
      " - 181s - loss: 0.6084 - accuracy: 0.6640 - val_loss: 0.6068 - val_accuracy: 0.6651\n",
      "Epoch 16/60\n",
      " - 176s - loss: 0.6075 - accuracy: 0.6646 - val_loss: 0.6042 - val_accuracy: 0.6649\n",
      "Epoch 17/60\n",
      " - 175s - loss: 0.6032 - accuracy: 0.6693 - val_loss: 0.6034 - val_accuracy: 0.6617\n",
      "Epoch 18/60\n",
      " - 175s - loss: 0.6036 - accuracy: 0.6700 - val_loss: 0.6047 - val_accuracy: 0.6636\n",
      "Epoch 19/60\n",
      " - 175s - loss: 0.6015 - accuracy: 0.6705 - val_loss: 0.6091 - val_accuracy: 0.6669\n",
      "Epoch 20/60\n",
      " - 174s - loss: 0.5996 - accuracy: 0.6766 - val_loss: 0.6023 - val_accuracy: 0.6687\n",
      "Epoch 21/60\n",
      " - 175s - loss: 0.6001 - accuracy: 0.6731 - val_loss: 0.6007 - val_accuracy: 0.6698\n",
      "Epoch 22/60\n",
      " - 176s - loss: 0.5979 - accuracy: 0.6753 - val_loss: 0.6021 - val_accuracy: 0.6669\n",
      "Epoch 23/60\n",
      " - 176s - loss: 0.5956 - accuracy: 0.6771 - val_loss: 0.5964 - val_accuracy: 0.6751\n",
      "Epoch 24/60\n",
      " - 175s - loss: 0.5910 - accuracy: 0.6779 - val_loss: 0.5923 - val_accuracy: 0.6769\n",
      "Epoch 25/60\n",
      " - 177s - loss: 0.5889 - accuracy: 0.6824 - val_loss: 0.5896 - val_accuracy: 0.6805\n",
      "Epoch 26/60\n",
      " - 181s - loss: 0.5858 - accuracy: 0.6872 - val_loss: 0.6036 - val_accuracy: 0.6712\n",
      "Epoch 27/60\n",
      " - 174s - loss: 0.5844 - accuracy: 0.6849 - val_loss: 0.5920 - val_accuracy: 0.6791\n",
      "Epoch 28/60\n",
      " - 175s - loss: 0.5815 - accuracy: 0.6901 - val_loss: 0.5860 - val_accuracy: 0.6856\n",
      "Epoch 29/60\n",
      " - 174s - loss: 0.5794 - accuracy: 0.6892 - val_loss: 0.5872 - val_accuracy: 0.6863\n",
      "Epoch 30/60\n",
      " - 173s - loss: 0.5765 - accuracy: 0.6925 - val_loss: 0.5881 - val_accuracy: 0.6831\n",
      "Epoch 31/60\n",
      " - 171s - loss: 0.5740 - accuracy: 0.6927 - val_loss: 0.5874 - val_accuracy: 0.6881\n",
      "Epoch 32/60\n",
      " - 175s - loss: 0.5756 - accuracy: 0.6921 - val_loss: 0.5864 - val_accuracy: 0.6884\n",
      "Epoch 33/60\n",
      " - 174s - loss: 0.5720 - accuracy: 0.6964 - val_loss: 0.5869 - val_accuracy: 0.6868\n",
      "Epoch 34/60\n",
      " - 171s - loss: 0.5682 - accuracy: 0.6979 - val_loss: 0.5871 - val_accuracy: 0.6885\n",
      "Epoch 35/60\n",
      " - 173s - loss: 0.5667 - accuracy: 0.6997 - val_loss: 0.5874 - val_accuracy: 0.6842\n",
      "Epoch 36/60\n",
      " - 177s - loss: 0.5643 - accuracy: 0.7007 - val_loss: 0.5845 - val_accuracy: 0.6885\n",
      "Epoch 37/60\n",
      " - 173s - loss: 0.5606 - accuracy: 0.7055 - val_loss: 0.5834 - val_accuracy: 0.6845\n",
      "Epoch 38/60\n",
      " - 171s - loss: 0.5597 - accuracy: 0.7061 - val_loss: 0.5815 - val_accuracy: 0.6899\n",
      "Epoch 39/60\n",
      " - 173s - loss: 0.5579 - accuracy: 0.7081 - val_loss: 0.5837 - val_accuracy: 0.6892\n",
      "Epoch 40/60\n",
      " - 171s - loss: 0.5573 - accuracy: 0.7074 - val_loss: 0.5856 - val_accuracy: 0.6888\n",
      "Epoch 41/60\n",
      " - 171s - loss: 0.5541 - accuracy: 0.7135 - val_loss: 0.5822 - val_accuracy: 0.6893\n",
      "Epoch 42/60\n",
      " - 172s - loss: 0.5525 - accuracy: 0.7131 - val_loss: 0.5821 - val_accuracy: 0.6942\n",
      "Epoch 43/60\n",
      " - 173s - loss: 0.5512 - accuracy: 0.7113 - val_loss: 0.5847 - val_accuracy: 0.6887\n",
      "Epoch 44/60\n",
      " - 173s - loss: 0.5468 - accuracy: 0.7166 - val_loss: 0.5871 - val_accuracy: 0.6886\n",
      "Epoch 45/60\n",
      " - 171s - loss: 0.5446 - accuracy: 0.7190 - val_loss: 0.5925 - val_accuracy: 0.6865\n",
      "Epoch 46/60\n",
      " - 178s - loss: 0.5440 - accuracy: 0.7186 - val_loss: 0.5860 - val_accuracy: 0.6850\n",
      "Epoch 47/60\n",
      " - 171s - loss: 0.5414 - accuracy: 0.7199 - val_loss: 0.5842 - val_accuracy: 0.6940\n",
      "Epoch 48/60\n",
      " - 172s - loss: 0.5403 - accuracy: 0.7218 - val_loss: 0.5877 - val_accuracy: 0.6895\n",
      "Epoch 49/60\n",
      " - 171s - loss: 0.5358 - accuracy: 0.7259 - val_loss: 0.5862 - val_accuracy: 0.6884\n",
      "Epoch 50/60\n",
      " - 171s - loss: 0.5377 - accuracy: 0.7227 - val_loss: 0.5837 - val_accuracy: 0.6906\n",
      "Epoch 51/60\n",
      " - 172s - loss: 0.5369 - accuracy: 0.7224 - val_loss: 0.5843 - val_accuracy: 0.6950\n",
      "Epoch 52/60\n",
      " - 171s - loss: 0.5350 - accuracy: 0.7260 - val_loss: 0.5846 - val_accuracy: 0.6934\n",
      "Epoch 53/60\n",
      " - 175s - loss: 0.5313 - accuracy: 0.7293 - val_loss: 0.5855 - val_accuracy: 0.6912\n",
      "Epoch 54/60\n",
      " - 171s - loss: 0.5319 - accuracy: 0.7284 - val_loss: 0.5869 - val_accuracy: 0.6952\n",
      "Epoch 55/60\n",
      " - 173s - loss: 0.5287 - accuracy: 0.7315 - val_loss: 0.5859 - val_accuracy: 0.6912\n",
      "Epoch 56/60\n",
      " - 177s - loss: 0.5274 - accuracy: 0.7310 - val_loss: 0.5865 - val_accuracy: 0.6901\n",
      "Epoch 57/60\n",
      " - 171s - loss: 0.5262 - accuracy: 0.7308 - val_loss: 0.5891 - val_accuracy: 0.6950\n",
      "Epoch 58/60\n",
      " - 171s - loss: 0.5257 - accuracy: 0.7344 - val_loss: 0.5873 - val_accuracy: 0.6935\n",
      "Epoch 59/60\n",
      " - 171s - loss: 0.5244 - accuracy: 0.7312 - val_loss: 0.5916 - val_accuracy: 0.6904\n",
      "Epoch 60/60\n",
      " - 172s - loss: 0.5200 - accuracy: 0.7339 - val_loss: 0.5968 - val_accuracy: 0.6912\n"
     ]
    }
   ],
   "source": [
    "history=model.fit(X_train,y_train,batch_size=16,epochs=60,validation_data=(X_val,y_val),verbose=2)"
   ]
  },
  {
   "cell_type": "code",
   "execution_count": 21,
   "metadata": {},
   "outputs": [
    {
     "data": {
      "image/png": "[encoded data removed]",
      "text/plain": [
       "<Figure size 720x360 with 1 Axes>"
      ]
     },
     "metadata": {
      "needs_background": "light"
     },
     "output_type": "display_data"
    },
    {
     "data": {
      "image/png": "[encoded data removed]",
      "text/plain": [
       "<Figure size 720x360 with 1 Axes>"
      ]
     },
     "metadata": {
      "needs_background": "light"
     },
     "output_type": "display_data"
    }
   ],
   "source": [
    "from __future__ import division\n",
    "import numpy as np\n",
    "\n",
    "# Plot loss and accuracy \n",
    "fig = plt.figure(figsize=(10,5))\n",
    "\n",
    "#plt.subplot(1, 2, 1)\n",
    "plt.plot(history.epoch, history.history['val_loss'], 'g-', label='Validation data')\n",
    "plt.plot(history.epoch, history.history['loss'], 'r--', label='Training data')\n",
    "plt.grid(True)\n",
    "plt.xlabel('Number of epochs')\n",
    "plt.ylabel('Loss on training/validation data')\n",
    "plt.legend(bbox_to_anchor=(1.05, 1), loc=2, borderaxespad=0.)\n",
    "plt.show()\n",
    "\n",
    "#plt.subplot(1, 2, 2)\n",
    "fig = plt.figure(figsize=(10,5))\n",
    "plt.plot(history.epoch, history.history['val_accuracy'], 'g-', label='Validation data')\n",
    "plt.plot(history.epoch, history.history['accuracy'], 'r--', label='Training data')\n",
    "plt.grid(True)\n",
    "plt.xlabel('Number of epochs')\n",
    "plt.ylabel('Accuracy on training/validation data')\n",
    "plt.legend(bbox_to_anchor=(1.05, 1), loc=2, borderaxespad=0.)\n",
    "plt.show()"
   ]
  },
  {
   "cell_type": "markdown",
   "metadata": {},
   "source": [
    "### Validation accuracy tapers off, but doesn't decrease with an increase in epochs."
   ]
  },
  {
   "cell_type": "code",
   "execution_count": 22,
   "metadata": {},
   "outputs": [],
   "source": [
    "from sklearn import metrics"
   ]
  },
  {
   "cell_type": "code",
   "execution_count": 23,
   "metadata": {},
   "outputs": [
    {
     "name": "stdout",
     "output_type": "stream",
     "text": [
      "Accuracy:  0.7817921106643799\n",
      "Auroc:  0.7684356884796075\n",
      "Accuracy:  0.691183085919928\n",
      "Auroc:  0.673574900629066\n"
     ]
    }
   ],
   "source": [
    "train_pred_GloVe = model.predict(X_train)\n",
    "train_pred_GloVe_int = train_pred_GloVe.round().astype('int')\n",
    "print(\"Accuracy: \", metrics.accuracy_score(y_train, train_pred_GloVe_int))\n",
    "print(\"Auroc: \", metrics.roc_auc_score(y_train, train_pred_GloVe_int))\n",
    "\n",
    "val_pred_GloVe = model.predict(X_val)\n",
    "val_pred_GloVe_int = val_pred_GloVe.round().astype('int')\n",
    "print(\"Accuracy: \", metrics.accuracy_score(y_val, val_pred_GloVe_int))\n",
    "print(\"Auroc: \", metrics.roc_auc_score(y_val, val_pred_GloVe_int))"
   ]
  },
  {
   "cell_type": "code",
   "execution_count": 24,
   "metadata": {},
   "outputs": [
    {
     "name": "stderr",
     "output_type": "stream",
     "text": [
      "100%|██████████| 27924/27924 [00:23<00:00, 1177.04it/s]\n"
     ]
    }
   ],
   "source": [
    "corpus=create_corpus_new(test)\n",
    "MAX_LEN=100\n",
    "tokenizer_obj=Tokenizer()\n",
    "tokenizer_obj.fit_on_texts(corpus)\n",
    "sequences=tokenizer_obj.texts_to_sequences(corpus)\n",
    "\n",
    "test_pad=pad_sequences(sequences,maxlen=MAX_LEN,truncating='post',padding='post')"
   ]
  },
  {
   "cell_type": "code",
   "execution_count": 25,
   "metadata": {},
   "outputs": [],
   "source": [
    "test_pred_GloVe = model.predict(test_pad)\n",
    "test_pred_GloVe_int = test_pred_GloVe.round().astype('int')"
   ]
  },
  {
   "cell_type": "markdown",
   "metadata": {},
   "source": [
    "### Although I should have left it without using astype int for AUC score, there score was too much worse to justify using this model"
   ]
  },
  {
   "cell_type": "code",
   "execution_count": 26,
   "metadata": {},
   "outputs": [],
   "source": [
    "test[\"Outcome\"] = test_pred_GloVe_int"
   ]
  },
  {
   "cell_type": "code",
   "execution_count": 27,
   "metadata": {},
   "outputs": [],
   "source": [
    "test[[\"Id\", \"Outcome\"]].to_csv(\"submission.csv\", index=False)"
   ]
  }
 ],
 "metadata": {
  "kernelspec": {
   "display_name": "Python 3",
   "language": "python",
   "name": "python3"
  },
  "language_info": {
   "codemirror_mode": {
    "name": "ipython",
    "version": 3
   },
   "file_extension": ".py",
   "mimetype": "text/x-python",
   "name": "python",
   "nbconvert_exporter": "python",
   "pygments_lexer": "ipython3",
   "version": "3.7.1"
  }
 },
 "nbformat": 4,
 "nbformat_minor": 4
}
