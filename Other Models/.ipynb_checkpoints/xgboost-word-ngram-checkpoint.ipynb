{
 "cells": [
  {
   "cell_type": "markdown",
   "metadata": {},
   "source": [
    "### In this notebook, I use an ngram model with XGBoost, obtaining a score of 0.78, which was not very good. I attempted this to confirm my intuition of using character level vectorizers over words."
   ]
  },
  {
   "cell_type": "code",
   "execution_count": 1,
   "metadata": {
    "_cell_guid": "b1076dfc-b9ad-4769-8c92-a6c4dae69d19",
    "_uuid": "8f2839f25d086af736a60e9eeb907d3b93b6e0e5"
   },
   "outputs": [],
   "source": [
    "import numpy as np # linear algebra\n",
    "import pandas as pd # data processing, CSV file I/O (e.g. pd.read_csv)\n",
    "import matplotlib.pyplot as plt\n",
    "import string\n",
    "from nltk.stem.snowball import SnowballStemmer\n",
    "from nltk.tokenize import word_tokenize\n",
    "from nltk.corpus import stopwords\n",
    "from scipy.sparse import coo_matrix, hstack, vstack"
   ]
  },
  {
   "cell_type": "code",
   "execution_count": 2,
   "metadata": {
    "_cell_guid": "79c7e3d0-c299-4dcb-8224-4455121ee9b0",
    "_uuid": "d629ff2d2480ee46fbb7e2d37f6b5fab8052498a"
   },
   "outputs": [
    {
     "data": {
      "text/html": [
       "<div>\n",
       "<style scoped>\n",
       "    .dataframe tbody tr th:only-of-type {\n",
       "        vertical-align: middle;\n",
       "    }\n",
       "\n",
       "    .dataframe tbody tr th {\n",
       "        vertical-align: top;\n",
       "    }\n",
       "\n",
       "    .dataframe thead th {\n",
       "        text-align: right;\n",
       "    }\n",
       "</style>\n",
       "<table border=\"1\" class=\"dataframe\">\n",
       "  <thead>\n",
       "    <tr style=\"text-align: right;\">\n",
       "      <th></th>\n",
       "      <th>Comment</th>\n",
       "      <th>Outcome</th>\n",
       "      <th>Id</th>\n",
       "      <th>num_numbers</th>\n",
       "      <th>prop_numbers</th>\n",
       "      <th>num_words</th>\n",
       "      <th>num_punctuation</th>\n",
       "      <th>prop_punctuation</th>\n",
       "      <th>nchar</th>\n",
       "      <th>word_density</th>\n",
       "      <th>pos_tags</th>\n",
       "      <th>noun_count</th>\n",
       "      <th>verb_count</th>\n",
       "      <th>adj_count</th>\n",
       "      <th>adv_count</th>\n",
       "      <th>pron_count</th>\n",
       "      <th>lda</th>\n",
       "    </tr>\n",
       "  </thead>\n",
       "  <tbody>\n",
       "    <tr>\n",
       "      <th>0</th>\n",
       "      <td>from the constants section of the r language d...</td>\n",
       "      <td>1</td>\n",
       "      <td>32216</td>\n",
       "      <td>21</td>\n",
       "      <td>0.033926</td>\n",
       "      <td>114</td>\n",
       "      <td>18</td>\n",
       "      <td>0.029079</td>\n",
       "      <td>619</td>\n",
       "      <td>5.382609</td>\n",
       "      <td>[('from', 'IN'), ('the', 'DT'), ('constants', ...</td>\n",
       "      <td>37</td>\n",
       "      <td>17</td>\n",
       "      <td>9</td>\n",
       "      <td>5</td>\n",
       "      <td>4</td>\n",
       "      <td>NaN</td>\n",
       "    </tr>\n",
       "    <tr>\n",
       "      <th>1</th>\n",
       "      <td>when you run \"knit html\", the code is trying t...</td>\n",
       "      <td>1</td>\n",
       "      <td>37915</td>\n",
       "      <td>0</td>\n",
       "      <td>0.000000</td>\n",
       "      <td>104</td>\n",
       "      <td>42</td>\n",
       "      <td>0.069767</td>\n",
       "      <td>602</td>\n",
       "      <td>5.733333</td>\n",
       "      <td>[('when', 'WRB'), ('you', 'PRP'), ('run', 'VBP...</td>\n",
       "      <td>29</td>\n",
       "      <td>21</td>\n",
       "      <td>7</td>\n",
       "      <td>7</td>\n",
       "      <td>5</td>\n",
       "      <td>NaN</td>\n",
       "    </tr>\n",
       "    <tr>\n",
       "      <th>2</th>\n",
       "      <td>the preferred way, when applicable: for r in r...</td>\n",
       "      <td>1</td>\n",
       "      <td>36837</td>\n",
       "      <td>0</td>\n",
       "      <td>0.000000</td>\n",
       "      <td>127</td>\n",
       "      <td>57</td>\n",
       "      <td>0.077551</td>\n",
       "      <td>735</td>\n",
       "      <td>5.742188</td>\n",
       "      <td>[('the', 'DT'), ('preferred', 'JJ'), ('way', '...</td>\n",
       "      <td>46</td>\n",
       "      <td>17</td>\n",
       "      <td>12</td>\n",
       "      <td>11</td>\n",
       "      <td>5</td>\n",
       "      <td>NaN</td>\n",
       "    </tr>\n",
       "    <tr>\n",
       "      <th>3</th>\n",
       "      <td>an r list can have named elements and so funct...</td>\n",
       "      <td>1</td>\n",
       "      <td>38240</td>\n",
       "      <td>4</td>\n",
       "      <td>0.007220</td>\n",
       "      <td>98</td>\n",
       "      <td>23</td>\n",
       "      <td>0.041516</td>\n",
       "      <td>554</td>\n",
       "      <td>5.595960</td>\n",
       "      <td>[('an', 'DT'), ('r', 'JJ'), ('list', 'NN'), ('...</td>\n",
       "      <td>30</td>\n",
       "      <td>14</td>\n",
       "      <td>10</td>\n",
       "      <td>5</td>\n",
       "      <td>4</td>\n",
       "      <td>NaN</td>\n",
       "    </tr>\n",
       "    <tr>\n",
       "      <th>4</th>\n",
       "      <td>a geom_ribbon is exactly what you need ggplot(...</td>\n",
       "      <td>1</td>\n",
       "      <td>36239</td>\n",
       "      <td>1</td>\n",
       "      <td>0.003984</td>\n",
       "      <td>30</td>\n",
       "      <td>56</td>\n",
       "      <td>0.223108</td>\n",
       "      <td>251</td>\n",
       "      <td>8.096774</td>\n",
       "      <td>[('a', 'DT'), ('geom_ribbon', 'NN'), ('is', 'V...</td>\n",
       "      <td>22</td>\n",
       "      <td>2</td>\n",
       "      <td>11</td>\n",
       "      <td>1</td>\n",
       "      <td>2</td>\n",
       "      <td>NaN</td>\n",
       "    </tr>\n",
       "  </tbody>\n",
       "</table>\n",
       "</div>"
      ],
      "text/plain": [
       "                                             Comment  Outcome     Id  \\\n",
       "0  from the constants section of the r language d...        1  32216   \n",
       "1  when you run \"knit html\", the code is trying t...        1  37915   \n",
       "2  the preferred way, when applicable: for r in r...        1  36837   \n",
       "3  an r list can have named elements and so funct...        1  38240   \n",
       "4  a geom_ribbon is exactly what you need ggplot(...        1  36239   \n",
       "\n",
       "   num_numbers  prop_numbers  num_words  num_punctuation  prop_punctuation  \\\n",
       "0           21      0.033926        114               18          0.029079   \n",
       "1            0      0.000000        104               42          0.069767   \n",
       "2            0      0.000000        127               57          0.077551   \n",
       "3            4      0.007220         98               23          0.041516   \n",
       "4            1      0.003984         30               56          0.223108   \n",
       "\n",
       "   nchar  word_density                                           pos_tags  \\\n",
       "0    619      5.382609  [('from', 'IN'), ('the', 'DT'), ('constants', ...   \n",
       "1    602      5.733333  [('when', 'WRB'), ('you', 'PRP'), ('run', 'VBP...   \n",
       "2    735      5.742188  [('the', 'DT'), ('preferred', 'JJ'), ('way', '...   \n",
       "3    554      5.595960  [('an', 'DT'), ('r', 'JJ'), ('list', 'NN'), ('...   \n",
       "4    251      8.096774  [('a', 'DT'), ('geom_ribbon', 'NN'), ('is', 'V...   \n",
       "\n",
       "   noun_count  verb_count  adj_count  adv_count  pron_count  lda  \n",
       "0          37          17          9          5           4  NaN  \n",
       "1          29          21          7          7           5  NaN  \n",
       "2          46          17         12         11           5  NaN  \n",
       "3          30          14         10          5           4  NaN  \n",
       "4          22           2         11          1           2  NaN  "
      ]
     },
     "execution_count": 2,
     "metadata": {},
     "output_type": "execute_result"
    }
   ],
   "source": [
    "train = pd.read_csv(\"../datasets/preprocessed_train.csv\")\n",
    "test = pd.read_csv(\"../datasets/preprocessed_test.csv\")\n",
    "train[\"Comment\"] = train[\"Comment\"].apply(lambda x: x.lower())\n",
    "test[\"Comment\"] = test[\"Comment\"].apply(lambda x: x.lower())\n",
    "train.head()"
   ]
  },
  {
   "cell_type": "code",
   "execution_count": 3,
   "metadata": {},
   "outputs": [],
   "source": [
    "stemmer = SnowballStemmer(\"english\")\n",
    "stop_words = set(stopwords.words(\"english\"))\n",
    "def preprocess(text):\n",
    "    text = \"\".join([i.lower() if not i.isdigit() and i not in string.punctuation else \" \" for i in text])\n",
    "    text = word_tokenize(text)\n",
    "    text = [word for word in text if (word in [\"r\", \"c\"] or len(word) > 2) and word not in stop_words]\n",
    "    return \" \".join(text)"
   ]
  },
  {
   "cell_type": "code",
   "execution_count": 4,
   "metadata": {},
   "outputs": [
    {
     "data": {
      "application/vnd.jupyter.widget-view+json": {
       "model_id": "8100c42217af42ab8fb9d6276debec92",
       "version_major": 2,
       "version_minor": 0
      },
      "text/plain": [
       "HBox(children=(FloatProgress(value=0.0, max=27924.0), HTML(value='')))"
      ]
     },
     "metadata": {},
     "output_type": "display_data"
    },
    {
     "name": "stdout",
     "output_type": "stream",
     "text": [
      "\n"
     ]
    }
   ],
   "source": [
    "import pandas as pd\n",
    "import numpy as np\n",
    "# from tqdm import tqdm\n",
    "from tqdm.auto import tqdm  # for notebooks\n",
    "\n",
    "tqdm.pandas()\n",
    "\n",
    "# Now you can use `progress_apply` instead of `apply`\n",
    "test[\"processed\"] = test[\"Comment\"].progress_apply(lambda x: preprocess(x))"
   ]
  },
  {
   "cell_type": "code",
   "execution_count": 5,
   "metadata": {},
   "outputs": [
    {
     "data": {
      "application/vnd.jupyter.widget-view+json": {
       "model_id": "ff251abd0a4d44a4a0a57efef1c993cd",
       "version_major": 2,
       "version_minor": 0
      },
      "text/plain": [
       "HBox(children=(FloatProgress(value=0.0, max=44459.0), HTML(value='')))"
      ]
     },
     "metadata": {},
     "output_type": "display_data"
    },
    {
     "name": "stdout",
     "output_type": "stream",
     "text": [
      "\n"
     ]
    }
   ],
   "source": [
    "tqdm.pandas()\n",
    "train[\"processed\"] = train[\"Comment\"].progress_apply(lambda x: preprocess(x))"
   ]
  },
  {
   "cell_type": "code",
   "execution_count": 6,
   "metadata": {},
   "outputs": [],
   "source": [
    "from xgboost import XGBClassifier\n",
    "from hyperopt import hp, fmin, tpe, STATUS_OK, Trials\n",
    "import hyperopt\n",
    "from sklearn.metrics import make_scorer\n",
    "from sklearn.model_selection import cross_val_score\n",
    "from sklearn.feature_extraction.text import CountVectorizer, TfidfVectorizer"
   ]
  },
  {
   "cell_type": "markdown",
   "metadata": {},
   "source": [
    "### Using just words and countvectorizer, with some features engineered"
   ]
  },
  {
   "cell_type": "code",
   "execution_count": 7,
   "metadata": {},
   "outputs": [
    {
     "name": "stdout",
     "output_type": "stream",
     "text": [
      "(40013,)\n",
      "(4446,)\n",
      "(40013, 28200) (4446, 28200)\n"
     ]
    }
   ],
   "source": [
    "X = train.processed\n",
    "y = train.Outcome\n",
    "\n",
    "from sklearn.model_selection import train_test_split\n",
    "X_train, X_val, y_train, y_val = train_test_split(X, y, random_state=1, test_size=0.1)\n",
    "print(X_train.shape)\n",
    "print(X_val.shape)\n",
    "\n",
    "vect = CountVectorizer(min_df=10, ngram_range=(1, 2))# TfidfVectorizer(min_df=10, ngram_range=(1, 2))\n",
    "vect.fit(X_train)\n",
    "\n",
    "X_train_dtm = vect.transform(X_train)\n",
    "X_val_dtm = vect.transform(X_val)\n",
    "\n",
    "print(X_train_dtm.shape, X_val_dtm.shape)\n",
    "\n",
    "add_var_df = train.loc[X_train.index].reset_index()[['num_numbers', 'prop_numbers', 'num_words',\n",
    "       'num_punctuation', 'prop_punctuation', 'nchar', 'word_density', 'noun_count', 'verb_count', 'adj_count', 'adv_count',\n",
    "       'pron_count']]\n",
    "for column in add_var_df.columns:\n",
    "    var_sparse = add_var_df[column].values[:, None]\n",
    "    X_train_dtm = hstack((X_train_dtm, var_sparse))\n",
    "    \n",
    "add_var_df = train.loc[X_val.index].reset_index()[['num_numbers', 'prop_numbers', 'num_words',\n",
    "       'num_punctuation', 'prop_punctuation', 'nchar', 'word_density', 'noun_count', 'verb_count', 'adj_count', 'adv_count',\n",
    "       'pron_count']]\n",
    "for column in add_var_df.columns:\n",
    "    var_sparse = add_var_df[column].values[:, None]\n",
    "    X_val_dtm = hstack((X_val_dtm, var_sparse))"
   ]
  },
  {
   "cell_type": "code",
   "execution_count": 8,
   "metadata": {},
   "outputs": [
    {
     "data": {
      "text/plain": [
       "((40013, 28212), (4446, 28212))"
      ]
     },
     "execution_count": 8,
     "metadata": {},
     "output_type": "execute_result"
    }
   ],
   "source": [
    "X_train_dtm.shape, X_val_dtm.shape"
   ]
  },
  {
   "cell_type": "markdown",
   "metadata": {},
   "source": [
    "### I performed bayesian optimisation as well"
   ]
  },
  {
   "cell_type": "code",
   "execution_count": 9,
   "metadata": {},
   "outputs": [],
   "source": [
    "# max_evals = 60\n",
    "\n",
    "# scale_pos_weight = 19436/25023\n",
    "# xg_space ={'booster': hp.choice('booster', ['gbtree', 'gblinear', 'dart']), \n",
    "#            'max_depth': hp.choice('max_depth', np.arange(10, 100, 10, dtype=int)),\n",
    "#            'learning_rate': hp.choice('learning_rate', [0.1, 0.3, 0.5]),\n",
    "#            'min_child_weight': hp.quniform('min_child_weight', 10, 31, 5),\n",
    "#            'subsample': hp.uniform('subsample', 0.6, 0.9),\n",
    "#            'gamma' : hp.uniform('gamma', 0.1,0.5),\n",
    "#            'colsample_bytree' : hp.uniform ('colsample_bytree', 0.5,0.8),\n",
    "#            'reg_lambda' : hp.uniform ('reg_lambda', 1.5,3),\n",
    "#            'random_state':10,\n",
    "#            'scale_pos_weight': scale_pos_weight,\n",
    "#            'eval_metric': 'auc',\n",
    "#            'n_estimators': hp.choice('n_estimators', [50, 75, 100]),\n",
    "#           }\n",
    "\n",
    "# def xg_objective(space):\n",
    "#     model = XGBClassifier(booster=space['booster'],\n",
    "#                           max_depth=space['max_depth'],\n",
    "#                           learning_rate=space['learning_rate'],\n",
    "#                           min_child_weight=space['min_child_weight'],\n",
    "#                           subsample=space['subsample'],\n",
    "#                           gamma=space['gamma'],\n",
    "#                           colsample_bytree=space['colsample_bytree'],\n",
    "#                           reg_lambda=space['reg_lambda'],\n",
    "#                           random_state=space['random_state'],\n",
    "#                           scale_pos_weight=space['scale_pos_weight'],\n",
    "#                           eval_metric=space[\"eval_metric\"],\n",
    "#                           n_estimators=space[\"n_estimators\"])\n",
    "    \n",
    "#     acc = cross_val_score(model, X_train_dtm, y_train, cv = 3, scoring='roc_auc').mean()\n",
    "\n",
    "#     # We aim to maximize accuracy, therefore we return it as a negative value\n",
    "#     return {'loss': -acc, 'status': STATUS_OK }"
   ]
  },
  {
   "cell_type": "code",
   "execution_count": 10,
   "metadata": {},
   "outputs": [],
   "source": [
    "# xg_trials = Trials()\n",
    "# xg_best = fmin(fn= xg_objective,\n",
    "#             space= xg_space,\n",
    "#             algo= tpe.suggest,\n",
    "#             max_evals = max_evals,\n",
    "#             trials= xg_trials,\n",
    "#             rstate=np.random.RandomState(1234))"
   ]
  },
  {
   "cell_type": "code",
   "execution_count": 11,
   "metadata": {},
   "outputs": [],
   "source": [
    "# xg_params = hyperopt.space_eval(xg_space, xg_best)\n",
    "# xg_params"
   ]
  },
  {
   "cell_type": "code",
   "execution_count": 12,
   "metadata": {},
   "outputs": [],
   "source": [
    "xg_params = {'booster': 'dart',\n",
    " 'colsample_bytree': 0.706920487731888,\n",
    " 'eval_metric': 'auc',\n",
    " 'gamma': 0.21893404151880283,\n",
    " 'learning_rate': 0.1,\n",
    " 'max_depth': 60,\n",
    " 'min_child_weight': 10.0,\n",
    " 'n_estimators': 100,\n",
    " 'random_state': 10,\n",
    " 'reg_lambda': 2.375399849901569,\n",
    " 'scale_pos_weight': 0.7767254126203892,\n",
    " 'subsample': 0.8946798547013662}"
   ]
  },
  {
   "cell_type": "code",
   "execution_count": 13,
   "metadata": {},
   "outputs": [
    {
     "name": "stdout",
     "output_type": "stream",
     "text": [
      "CPU times: user 9min 15s, sys: 357 ms, total: 9min 15s\n",
      "Wall time: 2min 22s\n",
      "Train\n",
      "Accuracy:  0.9072301502011846\n",
      "Auroc:  0.9098229819023453\n",
      "Auroc:  0.9711620026683793\n",
      "Validation\n",
      "Accuracy:  0.7136752136752137\n",
      "Auroc:  0.7140054194162759\n",
      "Auroc:  0.7838856008920287\n"
     ]
    }
   ],
   "source": [
    "XG = XGBClassifier(**xg_params)\n",
    "%time XG.fit(X_train_dtm, y_train)\n",
    "\n",
    "from sklearn import metrics\n",
    "print(\"Train\")\n",
    "y_pred_class = XG.predict(X_train_dtm)\n",
    "print(\"Accuracy: \", metrics.accuracy_score(y_train, y_pred_class))\n",
    "print(\"Auroc: \", metrics.roc_auc_score(y_train, y_pred_class))\n",
    "y_pred_class = XG.predict_proba(X_train_dtm)\n",
    "print(\"Auroc: \", metrics.roc_auc_score(y_train, y_pred_class[:, 1]))\n",
    "\n",
    "print(\"Validation\")\n",
    "y_pred_class = XG.predict(X_val_dtm)\n",
    "print(\"Accuracy: \", metrics.accuracy_score(y_val, y_pred_class))\n",
    "print(\"Auroc: \", metrics.roc_auc_score(y_val, y_pred_class))\n",
    "y_pred_class = XG.predict_proba(X_val_dtm)\n",
    "print(\"Auroc: \", metrics.roc_auc_score(y_val, y_pred_class[:, 1]))"
   ]
  },
  {
   "cell_type": "markdown",
   "metadata": {},
   "source": [
    "# No min_df for vectorizer, Trying out to see effect. Performance decreases."
   ]
  },
  {
   "cell_type": "code",
   "execution_count": 14,
   "metadata": {},
   "outputs": [
    {
     "name": "stdout",
     "output_type": "stream",
     "text": [
      "(35567,)\n",
      "(8892,)\n",
      "(35567, 1058399) (8892, 1058399)\n",
      "CPU times: user 46min 45s, sys: 1.67 s, total: 46min 47s\n",
      "Wall time: 22min 58s\n",
      "Train\n",
      "Accuracy:  0.9072173644108302\n",
      "Auroc:  0.9098906754322436\n",
      "Auroc:  0.9713581485274961\n",
      "Validation\n",
      "Accuracy:  0.7099640125955915\n",
      "Auroc:  0.70912355476047\n",
      "Auroc:  0.7827086762418709\n"
     ]
    }
   ],
   "source": [
    "X = train.processed\n",
    "y = train.Outcome\n",
    "\n",
    "from sklearn.model_selection import train_test_split\n",
    "X_train, X_val, y_train, y_val = train_test_split(X, y, random_state=1, test_size=0.2)\n",
    "print(X_train.shape)\n",
    "print(X_val.shape)\n",
    "\n",
    "vect = CountVectorizer(ngram_range=(1, 2))# TfidfVectorizer(min_df=10, ngram_range=(1, 2))\n",
    "vect.fit(X_train)\n",
    "\n",
    "X_train_dtm = vect.transform(X_train)\n",
    "X_val_dtm = vect.transform(X_val)\n",
    "\n",
    "print(X_train_dtm.shape, X_val_dtm.shape)\n",
    "\n",
    "add_var_df = train.loc[X_train.index].reset_index()[['num_numbers', 'prop_numbers', 'num_words',\n",
    "       'num_punctuation', 'prop_punctuation', 'nchar', 'word_density', 'noun_count', 'verb_count', 'adj_count', 'adv_count',\n",
    "       'pron_count']]\n",
    "for column in add_var_df.columns:\n",
    "    var_sparse = add_var_df[column].values[:, None]\n",
    "    X_train_dtm = hstack((X_train_dtm, var_sparse))\n",
    "    \n",
    "add_var_df = train.loc[X_val.index].reset_index()[['num_numbers', 'prop_numbers', 'num_words',\n",
    "       'num_punctuation', 'prop_punctuation', 'nchar', 'word_density', 'noun_count', 'verb_count', 'adj_count', 'adv_count',\n",
    "       'pron_count']]\n",
    "for column in add_var_df.columns:\n",
    "    var_sparse = add_var_df[column].values[:, None]\n",
    "    X_val_dtm = hstack((X_val_dtm, var_sparse))\n",
    "\n",
    "XG = XGBClassifier(**xg_params)\n",
    "%time XG.fit(X_train_dtm, y_train)\n",
    "\n",
    "print(\"Train\")\n",
    "y_pred_class = XG.predict(X_train_dtm)\n",
    "print(\"Accuracy: \", metrics.accuracy_score(y_train, y_pred_class))\n",
    "print(\"Auroc: \", metrics.roc_auc_score(y_train, y_pred_class))\n",
    "y_pred_class = XG.predict_proba(X_train_dtm)\n",
    "print(\"Auroc: \", metrics.roc_auc_score(y_train, y_pred_class[:, 1]))\n",
    "\n",
    "print(\"Validation\")\n",
    "y_pred_class = XG.predict(X_val_dtm)\n",
    "print(\"Accuracy: \", metrics.accuracy_score(y_val, y_pred_class))\n",
    "print(\"Auroc: \", metrics.roc_auc_score(y_val, y_pred_class))\n",
    "y_pred_class = XG.predict_proba(X_val_dtm)\n",
    "print(\"Auroc: \", metrics.roc_auc_score(y_val, y_pred_class[:, 1]))"
   ]
  },
  {
   "cell_type": "markdown",
   "metadata": {},
   "source": [
    "# Prediction Results"
   ]
  },
  {
   "cell_type": "code",
   "execution_count": 15,
   "metadata": {},
   "outputs": [],
   "source": [
    "X = train.processed\n",
    "y = train.Outcome\n",
    "\n",
    "vect = CountVectorizer(min_df=10, ngram_range=(1, 2))# TfidfVectorizer(min_df=10, ngram_range=(1, 2))\n",
    "\n",
    "vect.fit(X)\n",
    "\n",
    "X_train_dtm = vect.transform(X)\n",
    "X_test_dtm = vect.transform(test.processed)\n",
    "\n",
    "add_var_df = train.loc[X.index].reset_index()[['num_numbers', 'prop_numbers', 'num_words',\n",
    "       'num_punctuation', 'prop_punctuation', 'nchar', 'word_density', 'noun_count', 'verb_count', 'adj_count', 'adv_count',\n",
    "       'pron_count']]\n",
    "for column in add_var_df.columns:\n",
    "    var_sparse = add_var_df[column].values[:, None]\n",
    "    X_train_dtm = hstack((X_train_dtm, var_sparse))\n",
    "    \n",
    "add_var_df = test.reset_index()[['num_numbers', 'prop_numbers', 'num_words',\n",
    "       'num_punctuation', 'prop_punctuation', 'nchar', 'word_density', 'noun_count', 'verb_count', 'adj_count', 'adv_count',\n",
    "       'pron_count']]\n",
    "for column in add_var_df.columns:\n",
    "    var_sparse = add_var_df[column].values[:, None]\n",
    "    X_test_dtm = hstack((X_test_dtm, var_sparse))"
   ]
  },
  {
   "cell_type": "code",
   "execution_count": 16,
   "metadata": {},
   "outputs": [
    {
     "name": "stdout",
     "output_type": "stream",
     "text": [
      "CPU times: user 10min 58s, sys: 404 ms, total: 10min 58s\n",
      "Wall time: 2min 49s\n"
     ]
    }
   ],
   "source": [
    "XG = XGBClassifier(**xg_params)\n",
    "%time XG.fit(X_train_dtm, y)\n",
    "y_pred_class = XG.predict_proba(X_test_dtm)[:, 1]"
   ]
  },
  {
   "cell_type": "code",
   "execution_count": 17,
   "metadata": {},
   "outputs": [],
   "source": [
    "test[\"Outcome\"] = y_pred_class"
   ]
  },
  {
   "cell_type": "code",
   "execution_count": 18,
   "metadata": {},
   "outputs": [],
   "source": [
    "test[[\"Id\", \"Outcome\"]].to_csv(\"submission.csv\", index=False)"
   ]
  },
  {
   "cell_type": "code",
   "execution_count": null,
   "metadata": {},
   "outputs": [],
   "source": []
  }
 ],
 "metadata": {
  "kernelspec": {
   "display_name": "Python 3",
   "language": "python",
   "name": "python3"
  },
  "language_info": {
   "codemirror_mode": {
    "name": "ipython",
    "version": 3
   },
   "file_extension": ".py",
   "mimetype": "text/x-python",
   "name": "python",
   "nbconvert_exporter": "python",
   "pygments_lexer": "ipython3",
   "version": "3.7.1"
  },
  "widgets": {
   "application/vnd.jupyter.widget-state+json": {
    "state": {
     "1ae0654e75094639ac32b70fdf26f326": {
      "model_module": "@jupyter-widgets/base",
      "model_module_version": "1.2.0",
      "model_name": "LayoutModel",
      "state": {
       "_model_module": "@jupyter-widgets/base",
       "_model_module_version": "1.2.0",
       "_model_name": "LayoutModel",
       "_view_count": null,
       "_view_module": "@jupyter-widgets/base",
       "_view_module_version": "1.2.0",
       "_view_name": "LayoutView",
       "align_content": null,
       "align_items": null,
       "align_self": null,
       "border": null,
       "bottom": null,
       "display": null,
       "flex": null,
       "flex_flow": null,
       "grid_area": null,
       "grid_auto_columns": null,
       "grid_auto_flow": null,
       "grid_auto_rows": null,
       "grid_column": null,
       "grid_gap": null,
       "grid_row": null,
       "grid_template_areas": null,
       "grid_template_columns": null,
       "grid_template_rows": null,
       "height": null,
       "justify_content": null,
       "justify_items": null,
       "left": null,
       "margin": null,
       "max_height": null,
       "max_width": null,
       "min_height": null,
       "min_width": null,
       "object_fit": null,
       "object_position": null,
       "order": null,
       "overflow": null,
       "overflow_x": null,
       "overflow_y": null,
       "padding": null,
       "right": null,
       "top": null,
       "visibility": null,
       "width": null
      }
     },
     "22ba701f8b0b4da3a8781a11550b888a": {
      "model_module": "@jupyter-widgets/base",
      "model_module_version": "1.2.0",
      "model_name": "LayoutModel",
      "state": {
       "_model_module": "@jupyter-widgets/base",
       "_model_module_version": "1.2.0",
       "_model_name": "LayoutModel",
       "_view_count": null,
       "_view_module": "@jupyter-widgets/base",
       "_view_module_version": "1.2.0",
       "_view_name": "LayoutView",
       "align_content": null,
       "align_items": null,
       "align_self": null,
       "border": null,
       "bottom": null,
       "display": null,
       "flex": null,
       "flex_flow": null,
       "grid_area": null,
       "grid_auto_columns": null,
       "grid_auto_flow": null,
       "grid_auto_rows": null,
       "grid_column": null,
       "grid_gap": null,
       "grid_row": null,
       "grid_template_areas": null,
       "grid_template_columns": null,
       "grid_template_rows": null,
       "height": null,
       "justify_content": null,
       "justify_items": null,
       "left": null,
       "margin": null,
       "max_height": null,
       "max_width": null,
       "min_height": null,
       "min_width": null,
       "object_fit": null,
       "object_position": null,
       "order": null,
       "overflow": null,
       "overflow_x": null,
       "overflow_y": null,
       "padding": null,
       "right": null,
       "top": null,
       "visibility": null,
       "width": null
      }
     },
     "2feb06c9a5c74655ac281eec0b9dbb93": {
      "model_module": "@jupyter-widgets/controls",
      "model_module_version": "1.5.0",
      "model_name": "ProgressStyleModel",
      "state": {
       "_model_module": "@jupyter-widgets/controls",
       "_model_module_version": "1.5.0",
       "_model_name": "ProgressStyleModel",
       "_view_count": null,
       "_view_module": "@jupyter-widgets/base",
       "_view_module_version": "1.2.0",
       "_view_name": "StyleView",
       "bar_color": null,
       "description_width": "initial"
      }
     },
     "5fea71066aed47adaabb3d063f84a89f": {
      "model_module": "@jupyter-widgets/controls",
      "model_module_version": "1.5.0",
      "model_name": "DescriptionStyleModel",
      "state": {
       "_model_module": "@jupyter-widgets/controls",
       "_model_module_version": "1.5.0",
       "_model_name": "DescriptionStyleModel",
       "_view_count": null,
       "_view_module": "@jupyter-widgets/base",
       "_view_module_version": "1.2.0",
       "_view_name": "StyleView",
       "description_width": ""
      }
     },
     "632d62a9566e453a94dd266dab73ce2c": {
      "model_module": "@jupyter-widgets/controls",
      "model_module_version": "1.5.0",
      "model_name": "HTMLModel",
      "state": {
       "_dom_classes": [],
       "_model_module": "@jupyter-widgets/controls",
       "_model_module_version": "1.5.0",
       "_model_name": "HTMLModel",
       "_view_count": null,
       "_view_module": "@jupyter-widgets/controls",
       "_view_module_version": "1.5.0",
       "_view_name": "HTMLView",
       "description": "",
       "description_tooltip": null,
       "layout": "IPY_MODEL_f62a332252b3414d8699e96e6555efeb",
       "placeholder": "​",
       "style": "IPY_MODEL_5fea71066aed47adaabb3d063f84a89f",
       "value": " 44459/44459 [01:09&lt;00:00, 638.35it/s]"
      }
     },
     "8100c42217af42ab8fb9d6276debec92": {
      "model_module": "@jupyter-widgets/controls",
      "model_module_version": "1.5.0",
      "model_name": "HBoxModel",
      "state": {
       "_dom_classes": [],
       "_model_module": "@jupyter-widgets/controls",
       "_model_module_version": "1.5.0",
       "_model_name": "HBoxModel",
       "_view_count": null,
       "_view_module": "@jupyter-widgets/controls",
       "_view_module_version": "1.5.0",
       "_view_name": "HBoxView",
       "box_style": "",
       "children": [
        "IPY_MODEL_bc145950489d4bfc84b557ae29cd0409",
        "IPY_MODEL_ada4731276eb4d97a148e2f193042648"
       ],
       "layout": "IPY_MODEL_e67df5ee9b3c48cfae6c5833fe50dfb7"
      }
     },
     "859cc3b2a8a34c8eb42b330ec68eed53": {
      "model_module": "@jupyter-widgets/controls",
      "model_module_version": "1.5.0",
      "model_name": "ProgressStyleModel",
      "state": {
       "_model_module": "@jupyter-widgets/controls",
       "_model_module_version": "1.5.0",
       "_model_name": "ProgressStyleModel",
       "_view_count": null,
       "_view_module": "@jupyter-widgets/base",
       "_view_module_version": "1.2.0",
       "_view_name": "StyleView",
       "bar_color": null,
       "description_width": "initial"
      }
     },
     "a8e481e0900e4ce79b70838c6a5c929a": {
      "model_module": "@jupyter-widgets/controls",
      "model_module_version": "1.5.0",
      "model_name": "DescriptionStyleModel",
      "state": {
       "_model_module": "@jupyter-widgets/controls",
       "_model_module_version": "1.5.0",
       "_model_name": "DescriptionStyleModel",
       "_view_count": null,
       "_view_module": "@jupyter-widgets/base",
       "_view_module_version": "1.2.0",
       "_view_name": "StyleView",
       "description_width": ""
      }
     },
     "ada4731276eb4d97a148e2f193042648": {
      "model_module": "@jupyter-widgets/controls",
      "model_module_version": "1.5.0",
      "model_name": "HTMLModel",
      "state": {
       "_dom_classes": [],
       "_model_module": "@jupyter-widgets/controls",
       "_model_module_version": "1.5.0",
       "_model_name": "HTMLModel",
       "_view_count": null,
       "_view_module": "@jupyter-widgets/controls",
       "_view_module_version": "1.5.0",
       "_view_name": "HTMLView",
       "description": "",
       "description_tooltip": null,
       "layout": "IPY_MODEL_cb0e610af7c4468eb6f9082ac506ef9d",
       "placeholder": "​",
       "style": "IPY_MODEL_a8e481e0900e4ce79b70838c6a5c929a",
       "value": " 27924/27924 [01:53&lt;00:00, 245.23it/s]"
      }
     },
     "bc145950489d4bfc84b557ae29cd0409": {
      "model_module": "@jupyter-widgets/controls",
      "model_module_version": "1.5.0",
      "model_name": "FloatProgressModel",
      "state": {
       "_dom_classes": [],
       "_model_module": "@jupyter-widgets/controls",
       "_model_module_version": "1.5.0",
       "_model_name": "FloatProgressModel",
       "_view_count": null,
       "_view_module": "@jupyter-widgets/controls",
       "_view_module_version": "1.5.0",
       "_view_name": "ProgressView",
       "bar_style": "success",
       "description": "100%",
       "description_tooltip": null,
       "layout": "IPY_MODEL_ca9a737f39c445dca16d90d01be325c7",
       "max": 27924,
       "min": 0,
       "orientation": "horizontal",
       "style": "IPY_MODEL_859cc3b2a8a34c8eb42b330ec68eed53",
       "value": 27924
      }
     },
     "bfe8da0390be4251b754187e2a999857": {
      "model_module": "@jupyter-widgets/controls",
      "model_module_version": "1.5.0",
      "model_name": "FloatProgressModel",
      "state": {
       "_dom_classes": [],
       "_model_module": "@jupyter-widgets/controls",
       "_model_module_version": "1.5.0",
       "_model_name": "FloatProgressModel",
       "_view_count": null,
       "_view_module": "@jupyter-widgets/controls",
       "_view_module_version": "1.5.0",
       "_view_name": "ProgressView",
       "bar_style": "success",
       "description": "100%",
       "description_tooltip": null,
       "layout": "IPY_MODEL_22ba701f8b0b4da3a8781a11550b888a",
       "max": 44459,
       "min": 0,
       "orientation": "horizontal",
       "style": "IPY_MODEL_2feb06c9a5c74655ac281eec0b9dbb93",
       "value": 44459
      }
     },
     "ca9a737f39c445dca16d90d01be325c7": {
      "model_module": "@jupyter-widgets/base",
      "model_module_version": "1.2.0",
      "model_name": "LayoutModel",
      "state": {
       "_model_module": "@jupyter-widgets/base",
       "_model_module_version": "1.2.0",
       "_model_name": "LayoutModel",
       "_view_count": null,
       "_view_module": "@jupyter-widgets/base",
       "_view_module_version": "1.2.0",
       "_view_name": "LayoutView",
       "align_content": null,
       "align_items": null,
       "align_self": null,
       "border": null,
       "bottom": null,
       "display": null,
       "flex": null,
       "flex_flow": null,
       "grid_area": null,
       "grid_auto_columns": null,
       "grid_auto_flow": null,
       "grid_auto_rows": null,
       "grid_column": null,
       "grid_gap": null,
       "grid_row": null,
       "grid_template_areas": null,
       "grid_template_columns": null,
       "grid_template_rows": null,
       "height": null,
       "justify_content": null,
       "justify_items": null,
       "left": null,
       "margin": null,
       "max_height": null,
       "max_width": null,
       "min_height": null,
       "min_width": null,
       "object_fit": null,
       "object_position": null,
       "order": null,
       "overflow": null,
       "overflow_x": null,
       "overflow_y": null,
       "padding": null,
       "right": null,
       "top": null,
       "visibility": null,
       "width": null
      }
     },
     "cb0e610af7c4468eb6f9082ac506ef9d": {
      "model_module": "@jupyter-widgets/base",
      "model_module_version": "1.2.0",
      "model_name": "LayoutModel",
      "state": {
       "_model_module": "@jupyter-widgets/base",
       "_model_module_version": "1.2.0",
       "_model_name": "LayoutModel",
       "_view_count": null,
       "_view_module": "@jupyter-widgets/base",
       "_view_module_version": "1.2.0",
       "_view_name": "LayoutView",
       "align_content": null,
       "align_items": null,
       "align_self": null,
       "border": null,
       "bottom": null,
       "display": null,
       "flex": null,
       "flex_flow": null,
       "grid_area": null,
       "grid_auto_columns": null,
       "grid_auto_flow": null,
       "grid_auto_rows": null,
       "grid_column": null,
       "grid_gap": null,
       "grid_row": null,
       "grid_template_areas": null,
       "grid_template_columns": null,
       "grid_template_rows": null,
       "height": null,
       "justify_content": null,
       "justify_items": null,
       "left": null,
       "margin": null,
       "max_height": null,
       "max_width": null,
       "min_height": null,
       "min_width": null,
       "object_fit": null,
       "object_position": null,
       "order": null,
       "overflow": null,
       "overflow_x": null,
       "overflow_y": null,
       "padding": null,
       "right": null,
       "top": null,
       "visibility": null,
       "width": null
      }
     },
     "e67df5ee9b3c48cfae6c5833fe50dfb7": {
      "model_module": "@jupyter-widgets/base",
      "model_module_version": "1.2.0",
      "model_name": "LayoutModel",
      "state": {
       "_model_module": "@jupyter-widgets/base",
       "_model_module_version": "1.2.0",
       "_model_name": "LayoutModel",
       "_view_count": null,
       "_view_module": "@jupyter-widgets/base",
       "_view_module_version": "1.2.0",
       "_view_name": "LayoutView",
       "align_content": null,
       "align_items": null,
       "align_self": null,
       "border": null,
       "bottom": null,
       "display": null,
       "flex": null,
       "flex_flow": null,
       "grid_area": null,
       "grid_auto_columns": null,
       "grid_auto_flow": null,
       "grid_auto_rows": null,
       "grid_column": null,
       "grid_gap": null,
       "grid_row": null,
       "grid_template_areas": null,
       "grid_template_columns": null,
       "grid_template_rows": null,
       "height": null,
       "justify_content": null,
       "justify_items": null,
       "left": null,
       "margin": null,
       "max_height": null,
       "max_width": null,
       "min_height": null,
       "min_width": null,
       "object_fit": null,
       "object_position": null,
       "order": null,
       "overflow": null,
       "overflow_x": null,
       "overflow_y": null,
       "padding": null,
       "right": null,
       "top": null,
       "visibility": null,
       "width": null
      }
     },
     "f62a332252b3414d8699e96e6555efeb": {
      "model_module": "@jupyter-widgets/base",
      "model_module_version": "1.2.0",
      "model_name": "LayoutModel",
      "state": {
       "_model_module": "@jupyter-widgets/base",
       "_model_module_version": "1.2.0",
       "_model_name": "LayoutModel",
       "_view_count": null,
       "_view_module": "@jupyter-widgets/base",
       "_view_module_version": "1.2.0",
       "_view_name": "LayoutView",
       "align_content": null,
       "align_items": null,
       "align_self": null,
       "border": null,
       "bottom": null,
       "display": null,
       "flex": null,
       "flex_flow": null,
       "grid_area": null,
       "grid_auto_columns": null,
       "grid_auto_flow": null,
       "grid_auto_rows": null,
       "grid_column": null,
       "grid_gap": null,
       "grid_row": null,
       "grid_template_areas": null,
       "grid_template_columns": null,
       "grid_template_rows": null,
       "height": null,
       "justify_content": null,
       "justify_items": null,
       "left": null,
       "margin": null,
       "max_height": null,
       "max_width": null,
       "min_height": null,
       "min_width": null,
       "object_fit": null,
       "object_position": null,
       "order": null,
       "overflow": null,
       "overflow_x": null,
       "overflow_y": null,
       "padding": null,
       "right": null,
       "top": null,
       "visibility": null,
       "width": null
      }
     },
     "ff251abd0a4d44a4a0a57efef1c993cd": {
      "model_module": "@jupyter-widgets/controls",
      "model_module_version": "1.5.0",
      "model_name": "HBoxModel",
      "state": {
       "_dom_classes": [],
       "_model_module": "@jupyter-widgets/controls",
       "_model_module_version": "1.5.0",
       "_model_name": "HBoxModel",
       "_view_count": null,
       "_view_module": "@jupyter-widgets/controls",
       "_view_module_version": "1.5.0",
       "_view_name": "HBoxView",
       "box_style": "",
       "children": [
        "IPY_MODEL_bfe8da0390be4251b754187e2a999857",
        "IPY_MODEL_632d62a9566e453a94dd266dab73ce2c"
       ],
       "layout": "IPY_MODEL_1ae0654e75094639ac32b70fdf26f326"
      }
     }
    },
    "version_major": 2,
    "version_minor": 0
   }
  }
 },
 "nbformat": 4,
 "nbformat_minor": 4
}
